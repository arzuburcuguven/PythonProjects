#A Simple generator and generator expression

def simple_gen():
  count = 0
  while True:
    yield count
    count += 1

my_simple_gen = simple_gen()
my_simple_gen_exp = (x for x in range(0, 10**9))


print(next(my_simple_gen), end=" ")
print(next(my_simple_gen))


print(next(my_simple_gen_exp), end=" ")
print(next(my_simple_gen_exp))

#A countdown generator and its formatted version that accepts .send()

def countdown(n):
  while n >= 0:
    yield n
    n -= 1

my_countdown = countdown(3)
print(next(my_countdown))
print(next(my_countdown))
print(next(my_countdown))

def countdown_v2(n):
  while n >= 0:
    received = yield n
    if received != None:
      n = received
    else:
      n -= 1
			
my_countdown = countdown_v2(8)
print(next(my_countdown))
print(next(my_countdown))
print(next(my_countdown))
print(my_countdown.send(2))
print(next(my_countdown))

